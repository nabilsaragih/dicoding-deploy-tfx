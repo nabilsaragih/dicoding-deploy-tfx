{
 "cells": [
  {
   "cell_type": "code",
   "execution_count": 1,
   "id": "29257186",
   "metadata": {},
   "outputs": [],
   "source": [
    "import pandas as pd\n",
    "import tensorflow as tf\n",
    "import requests\n",
    "import json\n",
    "import base64\n",
    "import random"
   ]
  },
  {
   "cell_type": "code",
   "execution_count": 2,
   "id": "c5acb406",
   "metadata": {},
   "outputs": [
    {
     "data": {
      "text/plain": [
       "0                                               oh my gosh\n",
       "1        trouble sleeping, confused mind, restless hear...\n",
       "2        All wrong, back off dear, forward doubt. Stay ...\n",
       "3        I've shifted my focus to something else but I'...\n",
       "4        I'm restless and restless, it's been a month n...\n",
       "                               ...                        \n",
       "51088    Anxiety cause faintness when standing up ? As ...\n",
       "51089    anxiety heart symptom does anyone else have th...\n",
       "51090    Travel Anxiety Hi all! Long time anxiety suffe...\n",
       "51091    fomo from things i’m not involved in does anyo...\n",
       "51092    Getting through the day How do you get  anythi...\n",
       "Name: statement, Length: 51093, dtype: object"
      ]
     },
     "execution_count": 2,
     "metadata": {},
     "output_type": "execute_result"
    }
   ],
   "source": [
    "df = pd.read_csv(\"data/data.csv\")\n",
    "df[\"statement\"]"
   ]
  },
  {
   "cell_type": "code",
   "execution_count": 7,
   "id": "2e15be83",
   "metadata": {},
   "outputs": [
    {
     "name": "stdout",
     "output_type": "stream",
     "text": [
      "Sample text: I like skincare that much, so I'm happy with any brand BA disociolla\n"
     ]
    }
   ],
   "source": [
    "sampleNumber = random.randint(0, len(df) - 1)\n",
    "textSample = df[\"statement\"][sampleNumber]\n",
    "print(\"Sample text:\", textSample)"
   ]
  },
  {
   "cell_type": "code",
   "execution_count": 8,
   "id": "c6f3f939",
   "metadata": {},
   "outputs": [
    {
     "name": "stdout",
     "output_type": "stream",
     "text": [
      "Prediction: Normal (Confidence: 1.00)\n"
     ]
    }
   ],
   "source": [
    "def prepare_json(text):\n",
    "    feature_spec = {\n",
    "        \"statement\": tf.train.Feature(bytes_list=tf.train.BytesList(value=[bytes(text, \"utf-8\")])),\n",
    "    }\n",
    "    \n",
    "    example = tf.train.Example(\n",
    "        features=tf.train.Features(feature=feature_spec)\n",
    "    ).SerializeToString()\n",
    "    \n",
    "    result = [\n",
    "        {\n",
    "            \"examples\": {\n",
    "                \"b64\": base64.b64encode(example).decode()\n",
    "            }\n",
    "        }\n",
    "    ]\n",
    "    \n",
    "    return json.dumps({\n",
    "        \"signature_name\": \"serving_default\",\n",
    "        \"instances\": result\n",
    "    })\n",
    "\n",
    "json_data = prepare_json(textSample)\n",
    "\n",
    "endpoint = \"https://dicoding-deploy-tfx-production.up.railway.app/v1/models/mental-health-model:predict\"\n",
    "response = requests.post(endpoint, data=json_data)\n",
    "\n",
    "if response:\n",
    "    probabilities = response.json().get(\"predictions\")[0]\n",
    "    \n",
    "    max_index = probabilities.index(max(probabilities))\n",
    "    \n",
    "    labels = [\n",
    "        'Anxiety', 'Bipolar', 'Depression', 'Normal', \n",
    "        'Personality disorder', 'Stress', 'Suicidal'\n",
    "    ]\n",
    "    \n",
    "    result = labels[max_index]\n",
    "    confidence = max(probabilities)\n",
    "    \n",
    "    print(f\"Prediction: {result} (Confidence: {confidence:.2f})\")\n",
    "else:\n",
    "    result = \"Error: No predictions found in response.\"\n",
    "    print(result)"
   ]
  }
 ],
 "metadata": {
  "kernelspec": {
   "display_name": "mlops-tfx",
   "language": "python",
   "name": "python3"
  },
  "language_info": {
   "codemirror_mode": {
    "name": "ipython",
    "version": 3
   },
   "file_extension": ".py",
   "mimetype": "text/x-python",
   "name": "python",
   "nbconvert_exporter": "python",
   "pygments_lexer": "ipython3",
   "version": "3.9.23"
  }
 },
 "nbformat": 4,
 "nbformat_minor": 5
}
